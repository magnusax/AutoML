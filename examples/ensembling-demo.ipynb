{
 "cells": [
  {
   "cell_type": "code",
   "execution_count": 1,
   "metadata": {},
   "outputs": [
    {
     "name": "stderr",
     "output_type": "stream",
     "text": [
      "C:\\Users\\magaxels\\anaconda3\\lib\\site-packages\\h5py\\__init__.py:36: FutureWarning: Conversion of the second argument of issubdtype from `float` to `np.floating` is deprecated. In future, it will be treated as `np.float64 == np.dtype(float).type`.\n",
      "  from ._conv import register_converters as _register_converters\n",
      "Using TensorFlow backend.\n"
     ]
    }
   ],
   "source": [
    "PATH = \"C:/Users/magaxels/AutoML\"\n",
    "import sys; sys.path.insert(0, PATH)\n",
    "from gazer import GazerMetaLearner\n",
    "from gazer.ensembler import GazerMetaEnsembler\n",
    "import numpy as np\n",
    "import pandas as pd\n",
    "import os\n",
    "import time\n",
    "from gazer.metrics import get_scorer\n",
    "from sklearn.externals import joblib\n",
    "from sklearn.model_selection import train_test_split\n",
    "from sklearn.datasets import load_digits\n",
    "import random\n"
   ]
  },
  {
   "cell_type": "code",
   "execution_count": 2,
   "metadata": {},
   "outputs": [],
   "source": [
    "X, y = load_digits(return_X_y=True)"
   ]
  },
  {
   "cell_type": "code",
   "execution_count": 3,
   "metadata": {},
   "outputs": [
    {
     "data": {
      "text/plain": [
       "((1797, 64), (1797,))"
      ]
     },
     "execution_count": 3,
     "metadata": {},
     "output_type": "execute_result"
    }
   ],
   "source": [
    "X.shape, y.shape"
   ]
  },
  {
   "cell_type": "code",
   "execution_count": 4,
   "metadata": {},
   "outputs": [
    {
     "name": "stdout",
     "output_type": "stream",
     "text": [
      "(898, 64) (898,) (899, 64) (899,)\n"
     ]
    }
   ],
   "source": [
    "X_train, X_val, y_train, y_val = train_test_split(X, y, test_size=0.5, random_state=0)\n",
    "print(X_train.shape, y_train.shape, X_val.shape, y_val.shape)"
   ]
  },
  {
   "cell_type": "code",
   "execution_count": 5,
   "metadata": {},
   "outputs": [],
   "source": [
    "from sklearn.preprocessing import StandardScaler, MaxAbsScaler\n",
    "##scaler = StandardScaler()\n",
    "scaler = MaxAbsScaler()\n",
    "scaler.fit(X_train)\n",
    "X_train = scaler.transform(X_train)\n",
    "X_val = scaler.transform(X_val)"
   ]
  },
  {
   "cell_type": "code",
   "execution_count": 35,
   "metadata": {},
   "outputs": [
    {
     "name": "stdout",
     "output_type": "stream",
     "text": [
      "Available algorithms (use '.clf' attribute for access):\n",
      "adaboost, multinomial_nb, neuralnet\n"
     ]
    }
   ],
   "source": [
    "learner = GazerMetaLearner(method='select', \n",
    "                           estimators=['neuralnet', 'adaboost', 'multinomial_nb'], \n",
    "                           verbose=1)\n",
    "learner.update('neuralnet', {'n_hidden': 3, 'epochs': 100, 'input_units': 750, 'p': 0.2})"
   ]
  },
  {
   "cell_type": "code",
   "execution_count": 36,
   "metadata": {},
   "outputs": [],
   "source": [
    "ensembler = GazerMetaEnsembler(learner, X_train.shape)"
   ]
  },
  {
   "cell_type": "code",
   "execution_count": 37,
   "metadata": {},
   "outputs": [
    {
     "name": "stdout",
     "output_type": "stream",
     "text": [
      "Training neural net..\n",
      "Train time: 0.23 min\n"
     ]
    },
    {
     "name": "stderr",
     "output_type": "stream",
     "text": [
      "neuralnet: 100%|██████████████████████████████████████████████████████████████████████| 100/100 [00:06<00:00, 14.93it/s]\n",
      "adaboost: 100%|███████████████████████████████████████████████████████████████████████| 100/100 [00:01<00:00, 77.42it/s]\n",
      "multinomial_nb: 100%|██████████████████████████████████████████████████████████████████| 40/40 [00:00<00:00, 146.56it/s]\n"
     ]
    }
   ],
   "source": [
    "ensembler.fit(X_train, y_train, os.path.join(os.getcwd(), \"models3\"))"
   ]
  },
  {
   "cell_type": "code",
   "execution_count": 38,
   "metadata": {},
   "outputs": [],
   "source": [
    "model, files = ensembler.orchestrator['neuralnet']"
   ]
  },
  {
   "cell_type": "code",
   "execution_count": 39,
   "metadata": {
    "scrolled": true
   },
   "outputs": [
    {
     "data": {
      "text/plain": [
       "[('C:\\\\Users\\\\magaxels\\\\AutoML\\\\examples\\\\models3\\\\neuralnet\\\\weights.20_0.00.hdf5',\n",
       "  0.0023),\n",
       " ('C:\\\\Users\\\\magaxels\\\\AutoML\\\\examples\\\\models3\\\\neuralnet\\\\weights.28_0.00.hdf5',\n",
       "  0.0023),\n",
       " ('C:\\\\Users\\\\magaxels\\\\AutoML\\\\examples\\\\models3\\\\neuralnet\\\\weights.27_0.00.hdf5',\n",
       "  0.0024),\n",
       " ('C:\\\\Users\\\\magaxels\\\\AutoML\\\\examples\\\\models3\\\\neuralnet\\\\weights.21_0.00.hdf5',\n",
       "  0.0026),\n",
       " ('C:\\\\Users\\\\magaxels\\\\AutoML\\\\examples\\\\models3\\\\neuralnet\\\\weights.29_0.00.hdf5',\n",
       "  0.0026),\n",
       " ('C:\\\\Users\\\\magaxels\\\\AutoML\\\\examples\\\\models3\\\\neuralnet\\\\weights.26_0.00.hdf5',\n",
       "  0.0027),\n",
       " ('C:\\\\Users\\\\magaxels\\\\AutoML\\\\examples\\\\models3\\\\neuralnet\\\\weights.100_0.00.hdf5',\n",
       "  0.0028),\n",
       " ('C:\\\\Users\\\\magaxels\\\\AutoML\\\\examples\\\\models3\\\\neuralnet\\\\weights.30_0.00.hdf5',\n",
       "  0.0028),\n",
       " ('C:\\\\Users\\\\magaxels\\\\AutoML\\\\examples\\\\models3\\\\neuralnet\\\\weights.33_0.00.hdf5',\n",
       "  0.0028),\n",
       " ('C:\\\\Users\\\\magaxels\\\\AutoML\\\\examples\\\\models3\\\\neuralnet\\\\weights.99_0.00.hdf5',\n",
       "  0.0028),\n",
       " ('C:\\\\Users\\\\magaxels\\\\AutoML\\\\examples\\\\models3\\\\neuralnet\\\\weights.31_0.00.hdf5',\n",
       "  0.0029),\n",
       " ('C:\\\\Users\\\\magaxels\\\\AutoML\\\\examples\\\\models3\\\\neuralnet\\\\weights.32_0.00.hdf5',\n",
       "  0.0029),\n",
       " ('C:\\\\Users\\\\magaxels\\\\AutoML\\\\examples\\\\models3\\\\neuralnet\\\\weights.88_0.00.hdf5',\n",
       "  0.0029),\n",
       " ('C:\\\\Users\\\\magaxels\\\\AutoML\\\\examples\\\\models3\\\\neuralnet\\\\weights.89_0.00.hdf5',\n",
       "  0.0029),\n",
       " ('C:\\\\Users\\\\magaxels\\\\AutoML\\\\examples\\\\models3\\\\neuralnet\\\\weights.90_0.00.hdf5',\n",
       "  0.0029),\n",
       " ('C:\\\\Users\\\\magaxels\\\\AutoML\\\\examples\\\\models3\\\\neuralnet\\\\weights.91_0.00.hdf5',\n",
       "  0.0029),\n",
       " ('C:\\\\Users\\\\magaxels\\\\AutoML\\\\examples\\\\models3\\\\neuralnet\\\\weights.92_0.00.hdf5',\n",
       "  0.0029),\n",
       " ('C:\\\\Users\\\\magaxels\\\\AutoML\\\\examples\\\\models3\\\\neuralnet\\\\weights.93_0.00.hdf5',\n",
       "  0.0029),\n",
       " ('C:\\\\Users\\\\magaxels\\\\AutoML\\\\examples\\\\models3\\\\neuralnet\\\\weights.96_0.00.hdf5',\n",
       "  0.0029),\n",
       " ('C:\\\\Users\\\\magaxels\\\\AutoML\\\\examples\\\\models3\\\\neuralnet\\\\weights.97_0.00.hdf5',\n",
       "  0.0029),\n",
       " ('C:\\\\Users\\\\magaxels\\\\AutoML\\\\examples\\\\models3\\\\neuralnet\\\\weights.98_0.00.hdf5',\n",
       "  0.0029),\n",
       " ('C:\\\\Users\\\\magaxels\\\\AutoML\\\\examples\\\\models3\\\\neuralnet\\\\weights.19_0.00.hdf5',\n",
       "  0.003),\n",
       " ('C:\\\\Users\\\\magaxels\\\\AutoML\\\\examples\\\\models3\\\\neuralnet\\\\weights.25_0.00.hdf5',\n",
       "  0.003),\n",
       " ('C:\\\\Users\\\\magaxels\\\\AutoML\\\\examples\\\\models3\\\\neuralnet\\\\weights.77_0.00.hdf5',\n",
       "  0.003),\n",
       " ('C:\\\\Users\\\\magaxels\\\\AutoML\\\\examples\\\\models3\\\\neuralnet\\\\weights.78_0.00.hdf5',\n",
       "  0.003),\n",
       " ('C:\\\\Users\\\\magaxels\\\\AutoML\\\\examples\\\\models3\\\\neuralnet\\\\weights.79_0.00.hdf5',\n",
       "  0.003),\n",
       " ('C:\\\\Users\\\\magaxels\\\\AutoML\\\\examples\\\\models3\\\\neuralnet\\\\weights.80_0.00.hdf5',\n",
       "  0.003),\n",
       " ('C:\\\\Users\\\\magaxels\\\\AutoML\\\\examples\\\\models3\\\\neuralnet\\\\weights.81_0.00.hdf5',\n",
       "  0.003),\n",
       " ('C:\\\\Users\\\\magaxels\\\\AutoML\\\\examples\\\\models3\\\\neuralnet\\\\weights.82_0.00.hdf5',\n",
       "  0.003),\n",
       " ('C:\\\\Users\\\\magaxels\\\\AutoML\\\\examples\\\\models3\\\\neuralnet\\\\weights.83_0.00.hdf5',\n",
       "  0.003),\n",
       " ('C:\\\\Users\\\\magaxels\\\\AutoML\\\\examples\\\\models3\\\\neuralnet\\\\weights.84_0.00.hdf5',\n",
       "  0.003),\n",
       " ('C:\\\\Users\\\\magaxels\\\\AutoML\\\\examples\\\\models3\\\\neuralnet\\\\weights.85_0.00.hdf5',\n",
       "  0.003),\n",
       " ('C:\\\\Users\\\\magaxels\\\\AutoML\\\\examples\\\\models3\\\\neuralnet\\\\weights.86_0.00.hdf5',\n",
       "  0.003),\n",
       " ('C:\\\\Users\\\\magaxels\\\\AutoML\\\\examples\\\\models3\\\\neuralnet\\\\weights.87_0.00.hdf5',\n",
       "  0.003),\n",
       " ('C:\\\\Users\\\\magaxels\\\\AutoML\\\\examples\\\\models3\\\\neuralnet\\\\weights.94_0.00.hdf5',\n",
       "  0.003),\n",
       " ('C:\\\\Users\\\\magaxels\\\\AutoML\\\\examples\\\\models3\\\\neuralnet\\\\weights.95_0.00.hdf5',\n",
       "  0.003),\n",
       " ('C:\\\\Users\\\\magaxels\\\\AutoML\\\\examples\\\\models3\\\\neuralnet\\\\weights.34_0.00.hdf5',\n",
       "  0.0031),\n",
       " ('C:\\\\Users\\\\magaxels\\\\AutoML\\\\examples\\\\models3\\\\neuralnet\\\\weights.47_0.00.hdf5',\n",
       "  0.0031),\n",
       " ('C:\\\\Users\\\\magaxels\\\\AutoML\\\\examples\\\\models3\\\\neuralnet\\\\weights.48_0.00.hdf5',\n",
       "  0.0031),\n",
       " ('C:\\\\Users\\\\magaxels\\\\AutoML\\\\examples\\\\models3\\\\neuralnet\\\\weights.49_0.00.hdf5',\n",
       "  0.0031),\n",
       " ('C:\\\\Users\\\\magaxels\\\\AutoML\\\\examples\\\\models3\\\\neuralnet\\\\weights.50_0.00.hdf5',\n",
       "  0.0031),\n",
       " ('C:\\\\Users\\\\magaxels\\\\AutoML\\\\examples\\\\models3\\\\neuralnet\\\\weights.51_0.00.hdf5',\n",
       "  0.0031),\n",
       " ('C:\\\\Users\\\\magaxels\\\\AutoML\\\\examples\\\\models3\\\\neuralnet\\\\weights.52_0.00.hdf5',\n",
       "  0.0031),\n",
       " ('C:\\\\Users\\\\magaxels\\\\AutoML\\\\examples\\\\models3\\\\neuralnet\\\\weights.53_0.00.hdf5',\n",
       "  0.0031),\n",
       " ('C:\\\\Users\\\\magaxels\\\\AutoML\\\\examples\\\\models3\\\\neuralnet\\\\weights.54_0.00.hdf5',\n",
       "  0.0031),\n",
       " ('C:\\\\Users\\\\magaxels\\\\AutoML\\\\examples\\\\models3\\\\neuralnet\\\\weights.63_0.00.hdf5',\n",
       "  0.0031),\n",
       " ('C:\\\\Users\\\\magaxels\\\\AutoML\\\\examples\\\\models3\\\\neuralnet\\\\weights.64_0.00.hdf5',\n",
       "  0.0031),\n",
       " ('C:\\\\Users\\\\magaxels\\\\AutoML\\\\examples\\\\models3\\\\neuralnet\\\\weights.65_0.00.hdf5',\n",
       "  0.0031),\n",
       " ('C:\\\\Users\\\\magaxels\\\\AutoML\\\\examples\\\\models3\\\\neuralnet\\\\weights.66_0.00.hdf5',\n",
       "  0.0031),\n",
       " ('C:\\\\Users\\\\magaxels\\\\AutoML\\\\examples\\\\models3\\\\neuralnet\\\\weights.67_0.00.hdf5',\n",
       "  0.0031),\n",
       " ('C:\\\\Users\\\\magaxels\\\\AutoML\\\\examples\\\\models3\\\\neuralnet\\\\weights.68_0.00.hdf5',\n",
       "  0.0031),\n",
       " ('C:\\\\Users\\\\magaxels\\\\AutoML\\\\examples\\\\models3\\\\neuralnet\\\\weights.69_0.00.hdf5',\n",
       "  0.0031),\n",
       " ('C:\\\\Users\\\\magaxels\\\\AutoML\\\\examples\\\\models3\\\\neuralnet\\\\weights.70_0.00.hdf5',\n",
       "  0.0031),\n",
       " ('C:\\\\Users\\\\magaxels\\\\AutoML\\\\examples\\\\models3\\\\neuralnet\\\\weights.71_0.00.hdf5',\n",
       "  0.0031),\n",
       " ('C:\\\\Users\\\\magaxels\\\\AutoML\\\\examples\\\\models3\\\\neuralnet\\\\weights.72_0.00.hdf5',\n",
       "  0.0031),\n",
       " ('C:\\\\Users\\\\magaxels\\\\AutoML\\\\examples\\\\models3\\\\neuralnet\\\\weights.73_0.00.hdf5',\n",
       "  0.0031),\n",
       " ('C:\\\\Users\\\\magaxels\\\\AutoML\\\\examples\\\\models3\\\\neuralnet\\\\weights.74_0.00.hdf5',\n",
       "  0.0031),\n",
       " ('C:\\\\Users\\\\magaxels\\\\AutoML\\\\examples\\\\models3\\\\neuralnet\\\\weights.75_0.00.hdf5',\n",
       "  0.0031),\n",
       " ('C:\\\\Users\\\\magaxels\\\\AutoML\\\\examples\\\\models3\\\\neuralnet\\\\weights.76_0.00.hdf5',\n",
       "  0.0031),\n",
       " ('C:\\\\Users\\\\magaxels\\\\AutoML\\\\examples\\\\models3\\\\neuralnet\\\\weights.35_0.00.hdf5',\n",
       "  0.0032),\n",
       " ('C:\\\\Users\\\\magaxels\\\\AutoML\\\\examples\\\\models3\\\\neuralnet\\\\weights.36_0.00.hdf5',\n",
       "  0.0032),\n",
       " ('C:\\\\Users\\\\magaxels\\\\AutoML\\\\examples\\\\models3\\\\neuralnet\\\\weights.37_0.00.hdf5',\n",
       "  0.0032),\n",
       " ('C:\\\\Users\\\\magaxels\\\\AutoML\\\\examples\\\\models3\\\\neuralnet\\\\weights.43_0.00.hdf5',\n",
       "  0.0032),\n",
       " ('C:\\\\Users\\\\magaxels\\\\AutoML\\\\examples\\\\models3\\\\neuralnet\\\\weights.44_0.00.hdf5',\n",
       "  0.0032),\n",
       " ('C:\\\\Users\\\\magaxels\\\\AutoML\\\\examples\\\\models3\\\\neuralnet\\\\weights.45_0.00.hdf5',\n",
       "  0.0032),\n",
       " ('C:\\\\Users\\\\magaxels\\\\AutoML\\\\examples\\\\models3\\\\neuralnet\\\\weights.46_0.00.hdf5',\n",
       "  0.0032),\n",
       " ('C:\\\\Users\\\\magaxels\\\\AutoML\\\\examples\\\\models3\\\\neuralnet\\\\weights.55_0.00.hdf5',\n",
       "  0.0032),\n",
       " ('C:\\\\Users\\\\magaxels\\\\AutoML\\\\examples\\\\models3\\\\neuralnet\\\\weights.56_0.00.hdf5',\n",
       "  0.0032),\n",
       " ('C:\\\\Users\\\\magaxels\\\\AutoML\\\\examples\\\\models3\\\\neuralnet\\\\weights.57_0.00.hdf5',\n",
       "  0.0032),\n",
       " ('C:\\\\Users\\\\magaxels\\\\AutoML\\\\examples\\\\models3\\\\neuralnet\\\\weights.58_0.00.hdf5',\n",
       "  0.0032),\n",
       " ('C:\\\\Users\\\\magaxels\\\\AutoML\\\\examples\\\\models3\\\\neuralnet\\\\weights.59_0.00.hdf5',\n",
       "  0.0032),\n",
       " ('C:\\\\Users\\\\magaxels\\\\AutoML\\\\examples\\\\models3\\\\neuralnet\\\\weights.60_0.00.hdf5',\n",
       "  0.0032),\n",
       " ('C:\\\\Users\\\\magaxels\\\\AutoML\\\\examples\\\\models3\\\\neuralnet\\\\weights.61_0.00.hdf5',\n",
       "  0.0032),\n",
       " ('C:\\\\Users\\\\magaxels\\\\AutoML\\\\examples\\\\models3\\\\neuralnet\\\\weights.62_0.00.hdf5',\n",
       "  0.0032),\n",
       " ('C:\\\\Users\\\\magaxels\\\\AutoML\\\\examples\\\\models3\\\\neuralnet\\\\weights.38_0.00.hdf5',\n",
       "  0.0033),\n",
       " ('C:\\\\Users\\\\magaxels\\\\AutoML\\\\examples\\\\models3\\\\neuralnet\\\\weights.39_0.00.hdf5',\n",
       "  0.0033),\n",
       " ('C:\\\\Users\\\\magaxels\\\\AutoML\\\\examples\\\\models3\\\\neuralnet\\\\weights.40_0.00.hdf5',\n",
       "  0.0033),\n",
       " ('C:\\\\Users\\\\magaxels\\\\AutoML\\\\examples\\\\models3\\\\neuralnet\\\\weights.41_0.00.hdf5',\n",
       "  0.0033),\n",
       " ('C:\\\\Users\\\\magaxels\\\\AutoML\\\\examples\\\\models3\\\\neuralnet\\\\weights.42_0.00.hdf5',\n",
       "  0.0033),\n",
       " ('C:\\\\Users\\\\magaxels\\\\AutoML\\\\examples\\\\models3\\\\neuralnet\\\\weights.23_0.00.hdf5',\n",
       "  0.0037),\n",
       " ('C:\\\\Users\\\\magaxels\\\\AutoML\\\\examples\\\\models3\\\\neuralnet\\\\weights.24_0.00.hdf5',\n",
       "  0.0037),\n",
       " ('C:\\\\Users\\\\magaxels\\\\AutoML\\\\examples\\\\models3\\\\neuralnet\\\\weights.22_0.00.hdf5',\n",
       "  0.0038),\n",
       " ('C:\\\\Users\\\\magaxels\\\\AutoML\\\\examples\\\\models3\\\\neuralnet\\\\weights.16_0.00.hdf5',\n",
       "  0.0042),\n",
       " ('C:\\\\Users\\\\magaxels\\\\AutoML\\\\examples\\\\models3\\\\neuralnet\\\\weights.17_0.00.hdf5',\n",
       "  0.0049),\n",
       " ('C:\\\\Users\\\\magaxels\\\\AutoML\\\\examples\\\\models3\\\\neuralnet\\\\weights.18_0.00.hdf5',\n",
       "  0.005),\n",
       " ('C:\\\\Users\\\\magaxels\\\\AutoML\\\\examples\\\\models3\\\\neuralnet\\\\weights.15_0.01.hdf5',\n",
       "  0.0089),\n",
       " ('C:\\\\Users\\\\magaxels\\\\AutoML\\\\examples\\\\models3\\\\neuralnet\\\\weights.13_0.02.hdf5',\n",
       "  0.0111),\n",
       " ('C:\\\\Users\\\\magaxels\\\\AutoML\\\\examples\\\\models3\\\\neuralnet\\\\weights.11_0.07.hdf5',\n",
       "  0.0123),\n",
       " ('C:\\\\Users\\\\magaxels\\\\AutoML\\\\examples\\\\models3\\\\neuralnet\\\\weights.09_0.02.hdf5',\n",
       "  0.0124),\n",
       " ('C:\\\\Users\\\\magaxels\\\\AutoML\\\\examples\\\\models3\\\\neuralnet\\\\weights.12_0.04.hdf5',\n",
       "  0.0139),\n",
       " ('C:\\\\Users\\\\magaxels\\\\AutoML\\\\examples\\\\models3\\\\neuralnet\\\\weights.14_0.02.hdf5',\n",
       "  0.0197),\n",
       " ('C:\\\\Users\\\\magaxels\\\\AutoML\\\\examples\\\\models3\\\\neuralnet\\\\weights.08_0.05.hdf5',\n",
       "  0.0247),\n",
       " ('C:\\\\Users\\\\magaxels\\\\AutoML\\\\examples\\\\models3\\\\neuralnet\\\\weights.07_0.07.hdf5',\n",
       "  0.0321),\n",
       " ('C:\\\\Users\\\\magaxels\\\\AutoML\\\\examples\\\\models3\\\\neuralnet\\\\weights.06_0.07.hdf5',\n",
       "  0.0335),\n",
       " ('C:\\\\Users\\\\magaxels\\\\AutoML\\\\examples\\\\models3\\\\neuralnet\\\\weights.05_0.13.hdf5',\n",
       "  0.0391),\n",
       " ('C:\\\\Users\\\\magaxels\\\\AutoML\\\\examples\\\\models3\\\\neuralnet\\\\weights.10_0.05.hdf5',\n",
       "  0.0407),\n",
       " ('C:\\\\Users\\\\magaxels\\\\AutoML\\\\examples\\\\models3\\\\neuralnet\\\\weights.04_0.16.hdf5',\n",
       "  0.0772),\n",
       " ('C:\\\\Users\\\\magaxels\\\\AutoML\\\\examples\\\\models3\\\\neuralnet\\\\weights.03_0.23.hdf5',\n",
       "  0.1113),\n",
       " ('C:\\\\Users\\\\magaxels\\\\AutoML\\\\examples\\\\models3\\\\neuralnet\\\\weights.02_0.46.hdf5',\n",
       "  0.2029),\n",
       " ('C:\\\\Users\\\\magaxels\\\\AutoML\\\\examples\\\\models3\\\\neuralnet\\\\weights.01_1.75.hdf5',\n",
       "  0.5526)]"
      ]
     },
     "execution_count": 39,
     "metadata": {},
     "output_type": "execute_result"
    }
   ],
   "source": [
    "files"
   ]
  },
  {
   "cell_type": "code",
   "execution_count": 40,
   "metadata": {},
   "outputs": [
    {
     "name": "stdout",
     "output_type": "stream",
     "text": [
      "[0.10644376826992111, 0.9733036707452726]\n",
      "[0.11446530019832196, 0.9688542825361512]\n",
      "[0.11395985155307571, 0.9699666295884316]\n",
      "[0.1106878416125846, 0.9688542825361512]\n",
      "[0.11994100626049412, 0.9721913236929922]\n",
      "[0.11463121468568008, 0.9710789766407119]\n",
      "[0.12280495824727791, 0.9721913236929922]\n",
      "[0.12421545002881947, 0.9721913236929922]\n",
      "[0.12177868852370731, 0.9733036707452726]\n",
      "[0.12255650352493956, 0.9721913236929922]\n",
      "[0.12406032530931979, 0.9733036707452726]\n",
      "[0.12324863649530231, 0.9721913236929922]\n",
      "[0.12191121801274914, 0.9721913236929922]\n",
      "[0.12188928972112154, 0.9721913236929922]\n",
      "[0.12197326985202396, 0.9721913236929922]\n",
      "[0.12195236745266308, 0.9721913236929922]\n",
      "[0.12206879321635518, 0.9721913236929922]\n",
      "[0.12226867593191443, 0.9721913236929922]\n",
      "[0.12258781956267119, 0.9721913236929922]\n",
      "[0.12257606343750674, 0.9721913236929922]\n",
      "[0.1226009192869687, 0.9721913236929922]\n",
      "[0.10323280164187472, 0.9710789766407119]\n",
      "[0.11524513678726102, 0.9710789766407119]\n",
      "[0.12221397321556775, 0.9721913236929922]\n",
      "[0.12199130316257935, 0.9721913236929922]\n",
      "[0.12201889019886947, 0.9721913236929922]\n",
      "[0.12196962195063979, 0.9721913236929922]\n",
      "[0.12203850878618328, 0.9721913236929922]\n",
      "[0.12207550653106262, 0.9721913236929922]\n",
      "[0.12220263089253337, 0.9721913236929922]\n",
      "[0.12252483815946684, 0.9721913236929922]\n",
      "[0.1226779172726195, 0.9721913236929922]\n",
      "[0.1226778921132807, 0.9721913236929922]\n",
      "[0.12238510315231961, 0.9721913236929922]\n",
      "[0.12279231445831146, 0.9721913236929922]\n",
      "[0.12302266679644233, 0.9721913236929922]\n",
      "[0.12107946717237807, 0.9733036707452726]\n",
      "[0.1228351810307618, 0.9721913236929922]\n",
      "[0.12269280503661444, 0.9721913236929922]\n",
      "[0.1224745827160094, 0.9721913236929922]\n",
      "[0.12258562154524563, 0.9721913236929922]\n",
      "[0.12257603165712747, 0.9721913236929922]\n",
      "[0.12252544159492068, 0.9721913236929922]\n",
      "[0.1224846488483802, 0.9721913236929922]\n",
      "[0.12243242910381671, 0.9721913236929922]\n",
      "[0.12302761128695694, 0.9721913236929922]\n",
      "[0.12309326266640569, 0.9721913236929922]\n",
      "[0.12329453640909181, 0.9721913236929922]\n",
      "[0.12340447870732567, 0.9721913236929922]\n",
      "[0.1234930560487264, 0.9721913236929922]\n",
      "[0.12348965705947089, 0.9721913236929922]\n",
      "[0.12349778056248699, 0.9721913236929922]\n",
      "[0.12342562642199939, 0.9721913236929922]\n",
      "[0.12346231411966144, 0.9721913236929922]\n",
      "[0.1233992416789632, 0.9721913236929922]\n",
      "[0.12328859385525398, 0.9721913236929922]\n",
      "[0.12316981003016546, 0.9721913236929922]\n",
      "[0.12315707256815742, 0.9721913236929922]\n",
      "[0.12292534791661408, 0.9721913236929922]\n",
      "[0.12155211160780559, 0.9755283648498332]\n",
      "[0.12176062935028713, 0.9755283648498332]\n",
      "[0.1219675819336041, 0.9755283648498332]\n",
      "[0.12376014360128146, 0.9721913236929922]\n",
      "[0.12336426404201142, 0.9721913236929922]\n",
      "[0.12347743486634247, 0.9721913236929922]\n",
      "[0.12328943966449424, 0.9721913236929922]\n",
      "[0.12246806839119966, 0.9721913236929922]\n",
      "[0.12270071730760636, 0.9721913236929922]\n",
      "[0.12267922385692472, 0.9721913236929922]\n",
      "[0.12258310651348892, 0.9721913236929922]\n",
      "[0.12241521129317688, 0.9721913236929922]\n",
      "[0.12266380321885496, 0.9721913236929922]\n",
      "[0.12293051742156476, 0.9721913236929922]\n",
      "[0.12297467848883518, 0.9721913236929922]\n",
      "[0.12305190200078041, 0.9733036707452726]\n",
      "[0.12424223070198388, 0.9721913236929922]\n",
      "[0.12422004956917815, 0.9721913236929922]\n",
      "[0.12414711585766414, 0.9721913236929922]\n",
      "[0.12400886751216701, 0.9721913236929922]\n",
      "[0.11485066461815573, 0.9721913236929922]\n",
      "[0.11753337975060235, 0.9733036707452726]\n",
      "[0.1192243747445273, 0.9688542825361512]\n",
      "[0.11120485573063281, 0.9688542825361512]\n",
      "[0.10963730857882636, 0.9688542825361512]\n",
      "[0.11085148714819469, 0.9688542825361512]\n",
      "[0.11955895062740084, 0.967741935483871]\n",
      "[0.11816705759610563, 0.9666295884315906]\n",
      "[0.09757587142512451, 0.9721913236929922]\n",
      "[0.10891568869998776, 0.9688542825361512]\n",
      "[0.14385917895080913, 0.9577308120133482]\n",
      "[0.14154850328455082, 0.9599555061842099]\n",
      "[0.18448126402676304, 0.9432703003337041]\n",
      "[0.14003945506064924, 0.9588431590656284]\n",
      "[0.14221317489301005, 0.9532814238042269]\n",
      "[0.14800869436049885, 0.949944382647386]\n",
      "[0.1558707586890532, 0.9432703003337041]\n",
      "[0.17784263102857767, 0.9421579532814238]\n",
      "[0.18996234761097275, 0.9443826473859844]\n",
      "[0.2756058619967822, 0.9110122358175751]\n",
      "[0.6472063790571703, 0.8008898776418243]\n"
     ]
    }
   ],
   "source": [
    "import keras\n",
    "for wts, score in files:\n",
    "    model.load_weights(wts)\n",
    "    print(model.evaluate(X_val, keras.utils.to_categorical(y_val), verbose=0))"
   ]
  },
  {
   "cell_type": "code",
   "execution_count": 46,
   "metadata": {},
   "outputs": [
    {
     "data": {
      "text/plain": [
       "(899,)"
      ]
     },
     "execution_count": 46,
     "metadata": {},
     "output_type": "execute_result"
    }
   ],
   "source": [
    "pr = np.array([list(l).index(max(list(l))) \n",
    "               for l in model.predict(X_val)])\n",
    "pr.shape\n"
   ]
  },
  {
   "cell_type": "code",
   "execution_count": 47,
   "metadata": {},
   "outputs": [
    {
     "data": {
      "text/plain": [
       "array([2, 2, 2, 6, 6, 7, 1, 9, 2, 5, 2, 2, 6, 6, 6, 6, 1, 0, 5, 2, 9, 7,\n",
       "       2, 4, 7, 5, 4, 9, 2, 9, 4, 7, 6, 1, 9, 4, 3, 1, 0, 1, 1, 6, 7, 7,\n",
       "       9, 0, 7, 4, 2, 1, 9, 6, 7, 9, 0, 0, 9, 1, 6, 3, 0, 2, 2, 4, 2, 9,\n",
       "       7, 6, 9, 1, 2, 3, 5, 1, 2, 1, 2, 2, 9, 7, 2, 3, 6, 0, 9, 9, 7, 5,\n",
       "       1, 2, 9, 9, 3, 1, 7, 7, 4, 1, 5, 1, 5, 9, 2, 5, 9, 0, 7, 2, 4, 2,\n",
       "       3, 4, 8, 9, 7, 7, 2, 0, 1, 5, 2, 5, 5, 4, 1, 7, 0, 6, 1, 5, 2, 9,\n",
       "       9, 5, 9, 9, 7, 7, 5, 6, 2, 9, 6, 9, 6, 1, 5, 1, 5, 9, 9, 1, 5, 3,\n",
       "       6, 1, 9, 9, 7, 7, 6, 7, 6, 5, 6, 0, 2, 1, 9, 2, 6, 1, 0, 4, 2, 6,\n",
       "       3, 9, 6, 7, 4, 9, 6, 9, 0, 2, 3, 3, 0, 7, 7, 5, 7, 8, 0, 7, 2, 9,\n",
       "       6, 4, 5, 0, 1, 4, 6, 4, 3, 3, 0, 9, 5, 2, 2, 9, 4, 1, 1, 4, 1, 9,\n",
       "       9, 4, 9, 2, 7, 6, 2, 3, 3, 1, 6, 9, 3, 6, 3, 9, 2, 0, 7, 6, 1, 1,\n",
       "       9, 7, 2, 7, 1, 5, 5, 7, 5, 2, 2, 7, 2, 7, 9, 5, 7, 0, 9, 2, 6, 5,\n",
       "       9, 7, 4, 3, 8, 0, 3, 6, 4, 6, 3, 2, 6, 1, 2, 2, 4, 6, 7, 5, 2, 4,\n",
       "       5, 3, 2, 4, 6, 9, 4, 5, 4, 3, 4, 6, 2, 9, 0, 1, 7, 2, 0, 9, 6, 0,\n",
       "       4, 2, 0, 7, 7, 2, 4, 7, 8, 2, 2, 4, 3, 7, 2, 6, 7, 9, 4, 1, 0, 2,\n",
       "       2, 4, 9, 5, 6, 2, 2, 7, 2, 2, 5, 2, 6, 4, 5, 0, 9, 4, 1, 2, 7, 0,\n",
       "       1, 9, 0, 5, 4, 3, 1, 9, 6, 5, 9, 4, 4, 4, 9, 8, 7, 0, 9, 6, 3, 5,\n",
       "       2, 3, 0, 8, 7, 3, 1, 3, 3, 0, 0, 4, 6, 0, 7, 7, 6, 2, 0, 4, 4, 2,\n",
       "       2, 7, 1, 9, 8, 6, 9, 5, 6, 2, 2, 3, 1, 2, 7, 2, 0, 2, 3, 2, 6, 5,\n",
       "       5, 9, 1, 2, 7, 0, 0, 9, 0, 7, 5, 9, 9, 3, 4, 7, 1, 1, 9, 5, 3, 6,\n",
       "       2, 1, 6, 1, 1, 7, 5, 5, 1, 9, 2, 9, 9, 7, 2, 1, 4, 9, 3, 9, 6, 2,\n",
       "       5, 9, 4, 5, 5, 2, 0, 7, 2, 0, 6, 9, 4, 1, 9, 6, 4, 3, 4, 2, 0, 4,\n",
       "       5, 9, 3, 9, 1, 8, 3, 4, 5, 4, 2, 5, 6, 7, 0, 6, 9, 9, 5, 1, 2, 1,\n",
       "       9, 9, 4, 9, 2, 0, 1, 2, 1, 1, 9, 9, 5, 5, 9, 4, 9, 7, 2, 4, 4, 9,\n",
       "       0, 1, 6, 9, 3, 6, 1, 7, 0, 6, 2, 9, 7, 3, 6, 2, 5, 2, 9, 9, 1, 4,\n",
       "       1, 7, 2, 2, 0, 6, 2, 2, 0, 6, 2, 6, 5, 2, 9, 6, 2, 1, 4, 6, 1, 2,\n",
       "       2, 7, 5, 9, 1, 9, 5, 0, 2, 5, 5, 6, 1, 2, 5, 7, 0, 5, 2, 9, 1, 2,\n",
       "       2, 1, 2, 1, 5, 7, 2, 7, 2, 4, 4, 1, 3, 5, 6, 7, 4, 0, 7, 3, 5, 7,\n",
       "       1, 5, 5, 3, 2, 5, 1, 3, 9, 4, 4, 6, 5, 1, 4, 1, 2, 3, 7, 1, 4, 8,\n",
       "       9, 2, 9, 4, 9, 7, 8, 0, 3, 3, 2, 0, 6, 6, 5, 4, 5, 9, 0, 9, 2, 5,\n",
       "       6, 9, 5, 4, 3, 2, 9, 9, 2, 7, 9, 9, 1, 2, 5, 9, 1, 0, 4, 1, 7, 4,\n",
       "       3, 9, 6, 5, 5, 5, 3, 5, 0, 0, 5, 0, 0, 3, 4, 2, 5, 4, 6, 2, 8, 5,\n",
       "       0, 9, 9, 2, 5, 0, 5, 0, 9, 7, 7, 5, 2, 7, 9, 6, 5, 3, 0, 2, 9, 7,\n",
       "       7, 4, 0, 0, 6, 1, 1, 3, 4, 1, 2, 7, 5, 1, 0, 9, 0, 4, 0, 9, 3, 0,\n",
       "       0, 6, 4, 5, 3, 8, 0, 9, 0, 3, 2, 0, 4, 0, 3, 3, 2, 2, 0, 5, 3, 2,\n",
       "       3, 6, 9, 0, 4, 2, 7, 9, 9, 5, 9, 2, 1, 2, 2, 6, 0, 1, 1, 3, 6, 2,\n",
       "       2, 7, 3, 2, 2, 1, 0, 3, 5, 5, 7, 9, 1, 3, 1, 1, 0, 9, 2, 5, 0, 0,\n",
       "       4, 2, 0, 5, 7, 9, 5, 0, 2, 5, 2, 7, 3, 6, 2, 7, 5, 5, 0, 0, 7, 0,\n",
       "       9, 3, 6, 1, 9, 1, 1, 9, 9, 6, 2, 3, 3, 2, 4, 4, 5, 9, 4, 6, 6, 2,\n",
       "       7, 2, 4, 2, 0, 0, 7, 7, 4, 4, 7, 2, 1, 1, 9, 7, 0, 4, 9, 2, 9, 3,\n",
       "       5, 3, 6, 3, 5, 2, 0, 0, 2, 4, 9, 8, 5, 2, 2, 9, 5, 9, 5])"
      ]
     },
     "execution_count": 47,
     "metadata": {},
     "output_type": "execute_result"
    }
   ],
   "source": [
    "pr"
   ]
  },
  {
   "cell_type": "code",
   "execution_count": null,
   "metadata": {
    "scrolled": true
   },
   "outputs": [],
   "source": [
    "valscores = {}; ensemble = {}\n",
    "for n_best in range(1, 11):\n",
    "    vs, ens = ensembler.hillclimb(X_val, y_val, n_best=n_best, p=0.8, iterations=7, scoring='accuracy')\n",
    "    valscores[str(n_best)] = vs\n",
    "    ensemble[str(n_best)] = ens"
   ]
  },
  {
   "cell_type": "code",
   "execution_count": null,
   "metadata": {},
   "outputs": [],
   "source": [
    "valsscores = valscores['2']\n",
    "x = [x for x,_ in valsscores]\n",
    "y = [y for _,y in valsscores]\n",
    "import matplotlib.pyplot as plt\n",
    "% matplotlib inline\n",
    "plt.figure(figsize=(12,6))\n",
    "plt.plot(x,y, 'x--')\n",
    "plt.show()"
   ]
  },
  {
   "cell_type": "code",
   "execution_count": null,
   "metadata": {},
   "outputs": [],
   "source": [
    "len(ensemble['10'])"
   ]
  },
  {
   "cell_type": "code",
   "execution_count": null,
   "metadata": {},
   "outputs": [],
   "source": []
  }
 ],
 "metadata": {
  "kernelspec": {
   "display_name": "Python 3",
   "language": "python",
   "name": "python3"
  },
  "language_info": {
   "codemirror_mode": {
    "name": "ipython",
    "version": 3
   },
   "file_extension": ".py",
   "mimetype": "text/x-python",
   "name": "python",
   "nbconvert_exporter": "python",
   "pygments_lexer": "ipython3",
   "version": "3.6.4"
  }
 },
 "nbformat": 4,
 "nbformat_minor": 2
}
