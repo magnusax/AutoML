{
 "cells": [
  {
   "cell_type": "code",
   "execution_count": 19,
   "metadata": {},
   "outputs": [],
   "source": [
    "###PATH = \"C:/Users/magaxels/AutoML\"\n",
    "PATH = \"/Users/magnusax/AutoML/\"\n",
    "import sys; sys.path.insert(0, PATH)\n",
    "from gazer import GazerMetaLearner\n",
    "from gazer.ensembler import GazerMetaEnsembler\n",
    "import numpy as np\n",
    "import pandas as pd\n",
    "import os\n",
    "import time\n",
    "from gazer.metrics import get_scorer\n",
    "from sklearn.externals import joblib\n",
    "from sklearn.model_selection import train_test_split\n",
    "from sklearn.datasets import load_digits\n",
    "import random\n"
   ]
  },
  {
   "cell_type": "code",
   "execution_count": 20,
   "metadata": {
    "collapsed": true
   },
   "outputs": [],
   "source": [
    "X, y = load_digits(return_X_y=True)"
   ]
  },
  {
   "cell_type": "code",
   "execution_count": 21,
   "metadata": {},
   "outputs": [
    {
     "data": {
      "text/plain": [
       "((1797, 64), (1797,))"
      ]
     },
     "execution_count": 21,
     "metadata": {},
     "output_type": "execute_result"
    }
   ],
   "source": [
    "X.shape, y.shape"
   ]
  },
  {
   "cell_type": "code",
   "execution_count": 22,
   "metadata": {},
   "outputs": [
    {
     "name": "stdout",
     "output_type": "stream",
     "text": [
      "(898, 64) (898,) (899, 64) (899,)\n"
     ]
    }
   ],
   "source": [
    "X_train, X_val, y_train, y_val = train_test_split(X, y, test_size=0.5, random_state=0)\n",
    "print(X_train.shape, y_train.shape, X_val.shape, y_val.shape)"
   ]
  },
  {
   "cell_type": "code",
   "execution_count": 23,
   "metadata": {
    "collapsed": true
   },
   "outputs": [],
   "source": [
    "from sklearn.preprocessing import StandardScaler, MaxAbsScaler\n",
    "##scaler = StandardScaler()\n",
    "#scaler = StandardScaler()\n",
    "#scaler.fit(X_train)\n",
    "#X_train = scaler.transform(X_train)\n",
    "#X_val = scaler.transform(X_val)"
   ]
  },
  {
   "cell_type": "code",
   "execution_count": 24,
   "metadata": {},
   "outputs": [
    {
     "name": "stdout",
     "output_type": "stream",
     "text": [
      "Available algorithms (use '.clf' attribute for access):\n",
      "sgd_hinge, bernoulli_nb, random_forest, knn, adaboost, svm, neuralnet, multinomial_nb, tree, logreg, gaussian_nb\n"
     ]
    }
   ],
   "source": [
    "learner = GazerMetaLearner(method='all', \n",
    "                           estimators=['adaboost', 'multinomial_nb', 'logreg', 'knn', 'neuralnet'], \n",
    "                           verbose=1)\n",
    "learner.update('neuralnet', {'n_hidden': 3, 'epochs': 50, 'input_units': 1000, 'p': 0.1, 'batch_norm': True})"
   ]
  },
  {
   "cell_type": "code",
   "execution_count": 25,
   "metadata": {},
   "outputs": [],
   "source": [
    "ensembler = GazerMetaEnsembler(learner, X_train.shape)"
   ]
  },
  {
   "cell_type": "code",
   "execution_count": 26,
   "metadata": {},
   "outputs": [
    {
     "name": "stdout",
     "output_type": "stream",
     "text": [
      "Training neural net..\n"
     ]
    },
    {
     "name": "stderr",
     "output_type": "stream",
     "text": [
      "neuralnet:   1%|▋                                                                       | 1/100 [00:00<00:14,  7.04it/s]"
     ]
    },
    {
     "name": "stdout",
     "output_type": "stream",
     "text": [
      "Train time: 0.17 min\n"
     ]
    },
    {
     "name": "stderr",
     "output_type": "stream",
     "text": [
      "neuralnet: 100%|██████████████████████████████████████████████████████████████████████| 100/100 [00:04<00:00, 22.44it/s]\n",
      "sgd_hinge: 100%|██████████████████████████████████████████████████████████████████████| 200/200 [00:03<00:00, 57.37it/s]\n",
      "bernoulli_nb: 100%|████████████████████████████████████████████████████████████████████| 40/40 [00:00<00:00, 207.48it/s]\n",
      "multinomial_nb: 100%|██████████████████████████████████████████████████████████████████| 40/40 [00:00<00:00, 306.29it/s]\n",
      "knn: 100%|██████████████████████████████████████████████████████████████████████████████| 60/60 [00:04<00:00, 12.52it/s]\n",
      "gaussian_nb: 100%|████████████████████████████████████████████████████████████████████████| 1/1 [00:00<00:00, 99.00it/s]\n",
      "svm: 100%|████████████████████████████████████████████████████████████████████████████| 200/200 [00:08<00:00, 24.51it/s]\n",
      "logreg: 100%|█████████████████████████████████████████████████████████████████████████| 200/200 [00:39<00:00,  5.13it/s]\n",
      "tree: 100%|██████████████████████████████████████████████████████████████████████████| 120/120 [00:01<00:00, 111.72it/s]\n",
      "adaboost: 100%|███████████████████████████████████████████████████████████████████████| 100/100 [00:01<00:00, 96.66it/s]\n",
      "random_forest: 100%|██████████████████████████████████████████████████████████████████| 100/100 [09:29<00:00,  5.70s/it]\n"
     ]
    }
   ],
   "source": [
    "ensembler.fit(X_train, y_train, os.path.join(os.getcwd(),\"tmp7\"))"
   ]
  },
  {
   "cell_type": "code",
   "execution_count": 28,
   "metadata": {},
   "outputs": [
    {
     "name": "stderr",
     "output_type": "stream",
     "text": [
      "ERROR:root:An unexpected error occurred while tokenizing input\n",
      "The following traceback may be corrupted or invalid\n",
      "The error message is: ('EOF in multi-line string', (140, 67))\n",
      "\n"
     ]
    },
    {
     "ename": "KeyError",
     "evalue": "'neuralnet'",
     "output_type": "error",
     "traceback": [
      "\u001b[0;31m---------------------------------------------------------------------------\u001b[0m",
      "\u001b[0;31mKeyError\u001b[0m                                  Traceback (most recent call last)",
      "\u001b[0;32m<ipython-input-28-8e003bb7212a>\u001b[0m in \u001b[0;36m<module>\u001b[0;34m()\u001b[0m\n\u001b[1;32m      3\u001b[0m                                        \u001b[0mp\u001b[0m\u001b[0;34m=\u001b[0m\u001b[0;36m0.5\u001b[0m\u001b[0;34m,\u001b[0m\u001b[0;34m\u001b[0m\u001b[0m\n\u001b[1;32m      4\u001b[0m                                        \u001b[0miterations\u001b[0m\u001b[0;34m=\u001b[0m\u001b[0;36m20\u001b[0m\u001b[0;34m,\u001b[0m\u001b[0;34m\u001b[0m\u001b[0m\n\u001b[0;32m----> 5\u001b[0;31m                                        scoring='accuracy')\n\u001b[0m",
      "\u001b[0;32m/Users/magnusax/AutoML/gazer/ensembler.py\u001b[0m in \u001b[0;36mhillclimb\u001b[0;34m(self, X_val, y_val, n_best, p, iterations, scoring)\u001b[0m\n\u001b[1;32m    356\u001b[0m             \u001b[0mscoring\u001b[0m \u001b[0;34m:\u001b[0m \u001b[0mstr\u001b[0m\u001b[0;34m,\u001b[0m \u001b[0mdefault\u001b[0m\u001b[0;34m:\u001b[0m \u001b[0maccuracy\u001b[0m\u001b[0;34m\u001b[0m\u001b[0m\n\u001b[1;32m    357\u001b[0m                 \u001b[0mThe\u001b[0m \u001b[0mmetric\u001b[0m \u001b[0mto\u001b[0m \u001b[0muse\u001b[0m \u001b[0mwhen\u001b[0m \u001b[0mhillclimbing\u001b[0m\u001b[0;34m\u001b[0m\u001b[0m\n\u001b[0;32m--> 358\u001b[0;31m \u001b[0;34m\u001b[0m\u001b[0m\n\u001b[0m\u001b[1;32m    359\u001b[0m         \"\"\"\n\u001b[1;32m    360\u001b[0m         \u001b[0mmod_files\u001b[0m \u001b[0;34m=\u001b[0m \u001b[0mself\u001b[0m\u001b[0;34m.\u001b[0m\u001b[0m_prep_output\u001b[0m\u001b[0;34m(\u001b[0m\u001b[0;34m)\u001b[0m\u001b[0;34m\u001b[0m\u001b[0m\n",
      "\u001b[0;32m/Users/magnusax/AutoML/gazer/ensembler.py\u001b[0m in \u001b[0;36m_prep_output\u001b[0;34m(self)\u001b[0m\n\u001b[1;32m    317\u001b[0m         \u001b[0;32mand\u001b[0m \u001b[0mscores\u001b[0m \u001b[0;32mand\u001b[0m \u001b[0;32mreturn\u001b[0m \u001b[0ma\u001b[0m \u001b[0msorted\u001b[0m \u001b[0mlist\u001b[0m \u001b[0mof\u001b[0m \u001b[0mclassifiers\u001b[0m\u001b[0;34m.\u001b[0m\u001b[0;34m\u001b[0m\u001b[0m\n\u001b[1;32m    318\u001b[0m         \"\"\"\n\u001b[0;32m--> 319\u001b[0;31m         \u001b[0;31m# External package\u001b[0m\u001b[0;34m\u001b[0m\u001b[0;34m\u001b[0m\u001b[0m\n\u001b[0m\u001b[1;32m    320\u001b[0m         \u001b[0;32mif\u001b[0m \u001b[0;34m'neuralnet'\u001b[0m \u001b[0;32min\u001b[0m \u001b[0mself\u001b[0m\u001b[0;34m.\u001b[0m\u001b[0mlearner\u001b[0m\u001b[0;34m.\u001b[0m\u001b[0mnames\u001b[0m\u001b[0;34m:\u001b[0m\u001b[0;34m\u001b[0m\u001b[0m\n\u001b[1;32m    321\u001b[0m             \u001b[0mmodel\u001b[0m\u001b[0;34m,\u001b[0m \u001b[0mnn_fs\u001b[0m \u001b[0;34m=\u001b[0m \u001b[0mself\u001b[0m\u001b[0;34m.\u001b[0m\u001b[0morchestrator\u001b[0m\u001b[0;34m.\u001b[0m\u001b[0mpop\u001b[0m\u001b[0;34m(\u001b[0m\u001b[0;34m'neuralnet'\u001b[0m\u001b[0;34m)\u001b[0m\u001b[0;34m\u001b[0m\u001b[0m\n",
      "\u001b[0;31mKeyError\u001b[0m: 'neuralnet'"
     ]
    }
   ],
   "source": [
    "scores, ensemble = ensembler.hillclimb(X_val, y_val, \n",
    "                                       n_best=5, \n",
    "                                       p=0.5, \n",
    "                                       iterations=20, \n",
    "                                       scoring='accuracy')"
   ]
  },
  {
   "cell_type": "code",
   "execution_count": null,
   "metadata": {
    "collapsed": true
   },
   "outputs": [],
   "source": []
  },
  {
   "cell_type": "code",
   "execution_count": null,
   "metadata": {
    "collapsed": true
   },
   "outputs": [],
   "source": [
    "model, files = ensembler.orchestrator['neuralnet']"
   ]
  },
  {
   "cell_type": "code",
   "execution_count": null,
   "metadata": {
    "scrolled": true
   },
   "outputs": [],
   "source": [
    "files"
   ]
  },
  {
   "cell_type": "code",
   "execution_count": null,
   "metadata": {},
   "outputs": [],
   "source": [
    "import keras\n",
    "for wts, score in files:\n",
    "    model.load_weights(wts)\n",
    "    print(model.evaluate(X_val, keras.utils.to_categorical(y_val), verbose=0))"
   ]
  },
  {
   "cell_type": "code",
   "execution_count": null,
   "metadata": {},
   "outputs": [],
   "source": [
    "pr = np.array([list(l).index(max(list(l))) \n",
    "               for l in model.predict(X_val)])\n",
    "pr.shape\n"
   ]
  },
  {
   "cell_type": "code",
   "execution_count": null,
   "metadata": {},
   "outputs": [],
   "source": [
    "pr"
   ]
  },
  {
   "cell_type": "code",
   "execution_count": null,
   "metadata": {
    "collapsed": true,
    "scrolled": true
   },
   "outputs": [],
   "source": [
    "valscores = {}; ensemble = {}\n",
    "for n_best in range(1, 11):\n",
    "    vs, ens = ensembler.hillclimb(X_val, y_val, n_best=n_best, p=0.8, iterations=7, scoring='accuracy')\n",
    "    valscores[str(n_best)] = vs\n",
    "    ensemble[str(n_best)] = ens"
   ]
  },
  {
   "cell_type": "code",
   "execution_count": null,
   "metadata": {
    "collapsed": true
   },
   "outputs": [],
   "source": [
    "valsscores = valscores['2']\n",
    "x = [x for x,_ in valsscores]\n",
    "y = [y for _,y in valsscores]\n",
    "import matplotlib.pyplot as plt\n",
    "% matplotlib inline\n",
    "plt.figure(figsize=(12,6))\n",
    "plt.plot(x,y, 'x--')\n",
    "plt.show()"
   ]
  },
  {
   "cell_type": "code",
   "execution_count": null,
   "metadata": {
    "collapsed": true
   },
   "outputs": [],
   "source": [
    "len(ensemble['10'])"
   ]
  },
  {
   "cell_type": "code",
   "execution_count": null,
   "metadata": {
    "collapsed": true
   },
   "outputs": [],
   "source": []
  }
 ],
 "metadata": {
  "kernelspec": {
   "display_name": "Python [Root]",
   "language": "python",
   "name": "Python [Root]"
  },
  "language_info": {
   "codemirror_mode": {
    "name": "ipython",
    "version": 3
   },
   "file_extension": ".py",
   "mimetype": "text/x-python",
   "name": "python",
   "nbconvert_exporter": "python",
   "pygments_lexer": "ipython3",
   "version": "3.5.3"
  }
 },
 "nbformat": 4,
 "nbformat_minor": 2
}
