{
 "cells": [
  {
   "cell_type": "code",
   "execution_count": null,
   "metadata": {},
   "outputs": [],
   "source": [
    "PATH = \"C:/Users/magaxels/AutoML\"\n",
    "import sys; sys.path.insert(0, PATH)\n",
    "from gazer import GazerMetaLearner\n",
    "from gazer.ensembler import GazerMetaEnsembler\n",
    "import numpy as np\n",
    "import pandas as pd\n",
    "import os\n",
    "import time\n",
    "from gazer.metrics import get_scorer\n",
    "from sklearn.externals import joblib\n",
    "from sklearn.model_selection import train_test_split\n",
    "from sklearn.datasets import load_digits\n",
    "import random\n"
   ]
  },
  {
   "cell_type": "code",
   "execution_count": null,
   "metadata": {},
   "outputs": [],
   "source": [
    "X, y = load_digits(return_X_y=True)"
   ]
  },
  {
   "cell_type": "code",
   "execution_count": null,
   "metadata": {},
   "outputs": [],
   "source": [
    "X.shape, y.shape"
   ]
  },
  {
   "cell_type": "code",
   "execution_count": 4,
   "metadata": {},
   "outputs": [],
   "source": [
    "X_train, X_val, y_train, y_val = train_test_split(X, y, test_size=0.5, random_state=0)\n",
    "print(X_train.shape, y_train.shape, X_val.shape, y_val.shape)"
   ]
  },
  {
   "cell_type": "code",
   "execution_count": 5,
   "metadata": {},
   "outputs": [],
   "source": [
    "from sklearn.preprocessing import StandardScaler, MaxAbsScaler\n",
    "##scaler = StandardScaler()\n",
    "scaler = MaxAbsScaler()\n",
    "scaler.fit(X_train)\n",
    "X_train = scaler.transform(X_train)\n",
    "X_val = scaler.transform(X_val)"
   ]
  },
  {
   "cell_type": "code",
   "execution_count": 6,
   "metadata": {},
   "outputs": [
    {
     "name": "stderr",
     "output_type": "stream",
     "text": [
      "C:\\Users\\magaxels\\anaconda3\\lib\\site-packages\\h5py\\__init__.py:36: FutureWarning: Conversion of the second argument of issubdtype from `float` to `np.floating` is deprecated. In future, it will be treated as `np.float64 == np.dtype(float).type`.\n",
      "  from ._conv import register_converters as _register_converters\n",
      "Using TensorFlow backend.\n"
     ]
    },
    {
     "name": "stdout",
     "output_type": "stream",
     "text": [
      "Initialized: adaboost, knn, logreg, sgd_hinge, gaussian_nb, multinomial_nb, bernoulli_nb, random_forest, svm, tree\n"
     ]
    }
   ],
   "source": [
    "learner = GazerMetaLearner(method='all', exclude=['neuralnet', 'xgboost'], verbose=1)"
   ]
  },
  {
   "cell_type": "code",
   "execution_count": 7,
   "metadata": {},
   "outputs": [],
   "source": [
    "ensembler = GazerMetaEnsembler(learner, X_train.shape)"
   ]
  },
  {
   "cell_type": "code",
   "execution_count": 8,
   "metadata": {},
   "outputs": [
    {
     "name": "stdout",
     "output_type": "stream",
     "text": [
      "Algorithm: logreg \tFits: 200\n",
      "Algorithm: adaboost \tFits: 100\n",
      "Algorithm: knn \tFits: 60\n",
      "Algorithm: sgd_hinge \tFits: 200\n",
      "Algorithm: gaussian_nb \tFits: 1\n",
      "Algorithm: svm \tFits: 200\n",
      "Algorithm: multinomial_nb \tFits: 40\n",
      "Algorithm: bernoulli_nb \tFits: 40\n",
      "Algorithm: random_forest \tFits: 100\n",
      "Algorithm: tree \tFits: 120\n",
      "\n",
      "Total number of fits = 1061\n"
     ]
    }
   ],
   "source": [
    "ensembler.summary()"
   ]
  },
  {
   "cell_type": "code",
   "execution_count": 9,
   "metadata": {},
   "outputs": [
    {
     "name": "stderr",
     "output_type": "stream",
     "text": [
      "logreg: 100%|█████████████████████████████████████████████████████████████████████████| 200/200 [00:28<00:00,  7.05it/s]\n",
      "adaboost: 100%|███████████████████████████████████████████████████████████████████████| 100/100 [00:01<00:00, 76.81it/s]\n",
      "knn: 100%|██████████████████████████████████████████████████████████████████████████████| 60/60 [00:05<00:00, 11.38it/s]\n",
      "sgd_hinge: 100%|██████████████████████████████████████████████████████████████████████| 200/200 [00:03<00:00, 53.99it/s]\n",
      "gaussian_nb: 100%|████████████████████████████████████████████████████████████████████████| 1/1 [00:00<00:00, 92.45it/s]\n",
      "svm: 100%|████████████████████████████████████████████████████████████████████████████| 200/200 [00:06<00:00, 29.48it/s]\n",
      "multinomial_nb: 100%|██████████████████████████████████████████████████████████████████| 40/40 [00:00<00:00, 142.82it/s]\n",
      "bernoulli_nb: 100%|████████████████████████████████████████████████████████████████████| 40/40 [00:00<00:00, 123.29it/s]\n",
      "random_forest: 100%|██████████████████████████████████████████████████████████████████| 100/100 [03:45<00:00,  2.26s/it]\n",
      "tree: 100%|███████████████████████████████████████████████████████████████████████████| 120/120 [00:01<00:00, 84.10it/s]\n"
     ]
    },
    {
     "data": {
      "text/plain": [
       "<gazer.ensembler.GazerMetaEnsembler at 0x19acaaf2240>"
      ]
     },
     "execution_count": 9,
     "metadata": {},
     "output_type": "execute_result"
    }
   ],
   "source": [
    "ensembler.fit(X_train, y_train, os.path.join(os.getcwd(), \"models\"))"
   ]
  },
  {
   "cell_type": "code",
   "execution_count": 12,
   "metadata": {},
   "outputs": [
    {
     "name": "stdout",
     "output_type": "stream",
     "text": [
      "Max validation score =  0.9810901001112347\n",
      "Algorithms in initial ensemble: 3\n",
      "Initial accuracy-score: 0.9800\n",
      "Iteration: 1 \tScore: 0.981090\n",
      "Iteration: 2 \tScore: 0.983315\n",
      "Iteration: 3 \tScore: 0.983315\n",
      "Iteration: 4 \tScore: 0.983315\n",
      "Iteration: 5 \tScore: 0.983315\n",
      "Iteration: 6 \tScore: 0.983315\n",
      "Iteration: 7 \tScore: 0.983315\n",
      "Iteration: 8 \tScore: 0.983315\n",
      "Iteration: 9 \tScore: 0.983315\n",
      "Iteration: 10 \tScore: 0.983315\n"
     ]
    }
   ],
   "source": [
    "valscores = {}\n",
    "for n_best in range(3, 4):\n",
    "    vs = ensembler.hillclimb(X_val, y_val, n_best=n_best, p=0.8, iterations=10, scoring='accuracy')\n",
    "    valscores[str(n_best)] = vs"
   ]
  },
  {
   "cell_type": "code",
   "execution_count": null,
   "metadata": {},
   "outputs": [],
   "source": [
    "valsscores = valscores['3']\n",
    "x = [x for x,_ in valscores]\n",
    "y = [y for _,y in valscores]\n",
    "import matplotlib.pyplot as plt\n",
    "% matplotlib inline\n",
    "plt.figure(figsize=(9,9))\n",
    "plt.plot(x,y)\n",
    "plt.show()"
   ]
  },
  {
   "cell_type": "code",
   "execution_count": null,
   "metadata": {},
   "outputs": [],
   "source": []
  }
 ],
 "metadata": {
  "kernelspec": {
   "display_name": "Python 3",
   "language": "python",
   "name": "python3"
  },
  "language_info": {
   "codemirror_mode": {
    "name": "ipython",
    "version": 3
   },
   "file_extension": ".py",
   "mimetype": "text/x-python",
   "name": "python",
   "nbconvert_exporter": "python",
   "pygments_lexer": "ipython3",
   "version": "3.6.4"
  }
 },
 "nbformat": 4,
 "nbformat_minor": 2
}
