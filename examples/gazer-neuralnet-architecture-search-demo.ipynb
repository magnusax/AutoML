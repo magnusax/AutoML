{
 "cells": [
  {
   "cell_type": "code",
   "execution_count": 20,
   "metadata": {},
   "outputs": [],
   "source": [
    "import sys\n",
    "sys.path.insert(0, \"C:/Users/magaxels/AutoML\")\n",
    "\n",
    "from gazer import GazerMetaLearner\n",
    "\n",
    "import numpy as np\n",
    "import pandas as pd\n",
    "\n",
    "from sklearn.model_selection import train_test_split\n",
    "from sklearn.datasets import load_digits"
   ]
  },
  {
   "cell_type": "markdown",
   "metadata": {},
   "source": [
    "## Load some toy dataset and split into train and validation"
   ]
  },
  {
   "cell_type": "code",
   "execution_count": 24,
   "metadata": {},
   "outputs": [
    {
     "name": "stdout",
     "output_type": "stream",
     "text": [
      "(1437, 64) (1437,) (360, 64) (360,)\n"
     ]
    }
   ],
   "source": [
    "X, y = load_digits(return_X_y=True)\n",
    "\n",
    "X_train, X_val, y_train, y_val = train_test_split(X, y, test_size=0.2, random_state=0)\n",
    "\n",
    "print(X_train.shape, y_train.shape, X_val.shape, y_val.shape)"
   ]
  },
  {
   "cell_type": "markdown",
   "metadata": {},
   "source": [
    "### Define a learner object using method='select' and estimators=['neuralnet']"
   ]
  },
  {
   "cell_type": "code",
   "execution_count": 13,
   "metadata": {},
   "outputs": [
    {
     "name": "stdout",
     "output_type": "stream",
     "text": [
      "Available algorithms (use '.clf' attribute for access):\n",
      "neuralnet\n"
     ]
    }
   ],
   "source": [
    "learner = GazerMetaLearner(method='select', estimators=['neuralnet'], verbose=1)"
   ]
  },
  {
   "cell_type": "markdown",
   "metadata": {},
   "source": [
    "The entry point to network optimization is found in the optimization module"
   ]
  },
  {
   "cell_type": "code",
   "execution_count": 15,
   "metadata": {},
   "outputs": [],
   "source": [
    "from gazer.optimization import grid_search"
   ]
  },
  {
   "cell_type": "markdown",
   "metadata": {},
   "source": [
    "It expects the data to be shipped in the following format:"
   ]
  },
  {
   "cell_type": "code",
   "execution_count": 22,
   "metadata": {},
   "outputs": [],
   "source": [
    "data = {'train': (X_train, y_train), 'val': (X_val, y_val)}"
   ]
  },
  {
   "cell_type": "markdown",
   "metadata": {},
   "source": [
    "We also provide a dictionary of iterables to iterate over. "
   ]
  },
  {
   "cell_type": "code",
   "execution_count": 23,
   "metadata": {},
   "outputs": [],
   "source": [
    "params = {\n",
    "    'batch_norm': (True, False),\n",
    "    'batch_size': 16,\n",
    "    'dropout': True,\n",
    "    'epochs': (10, 20),\n",
    "    'input_units': np.linspace(250, 500, 6, dtype=int),\n",
    "    'n_hidden': (2,3),\n",
    "    'p': (0.1, 0.5),\n",
    "    'validation_split': 0.0,\n",
    "}"
   ]
  },
  {
   "cell_type": "markdown",
   "metadata": {},
   "source": [
    "### Perform grid search over \"architectures\""
   ]
  },
  {
   "cell_type": "code",
   "execution_count": 16,
   "metadata": {},
   "outputs": [
    {
     "data": {
      "application/vnd.jupyter.widget-view+json": {
       "model_id": "bc53cd0ff5ac432d9ab9bb646236bb56",
       "version_major": 2,
       "version_minor": 0
      },
      "text/html": [
       "<p>Failed to display Jupyter Widget of type <code>HBox</code>.</p>\n",
       "<p>\n",
       "  If you're reading this message in the Jupyter Notebook or JupyterLab Notebook, it may mean\n",
       "  that the widgets JavaScript is still loading. If this message persists, it\n",
       "  likely means that the widgets JavaScript library is either not installed or\n",
       "  not enabled. See the <a href=\"https://ipywidgets.readthedocs.io/en/stable/user_install.html\">Jupyter\n",
       "  Widgets Documentation</a> for setup instructions.\n",
       "</p>\n",
       "<p>\n",
       "  If you're reading this message in another frontend (for example, a static\n",
       "  rendering on GitHub or <a href=\"https://nbviewer.jupyter.org/\">NBViewer</a>),\n",
       "  it may mean that your frontend doesn't currently support widgets.\n",
       "</p>\n"
      ],
      "text/plain": [
       "HBox(children=(IntProgress(value=0, description='neuralnet', max=96), HTML(value='')))"
      ]
     },
     "metadata": {},
     "output_type": "display_data"
    },
    {
     "name": "stderr",
     "output_type": "stream",
     "text": [
      "C:\\Users\\magaxels\\anaconda3\\lib\\site-packages\\keras\\callbacks.py:972: RuntimeWarning: Reduce LR on plateau conditioned on metric `val_loss` which is not available. Available metrics are: loss,acc,lr\n",
      "  (self.monitor, ','.join(list(logs.keys()))), RuntimeWarning\n",
      "C:\\Users\\magaxels\\anaconda3\\lib\\site-packages\\keras\\callbacks.py:526: RuntimeWarning: Early stopping conditioned on metric `val_loss` which is not available. Available metrics are: loss,acc,lr\n",
      "  (self.monitor, ','.join(list(logs.keys()))), RuntimeWarning\n"
     ]
    },
    {
     "name": "stdout",
     "output_type": "stream",
     "text": [
      "360/360 [==============================] - ETA:  - 0s 381us/step\n",
      "1437/1437 [==============================] - ETA:  - ETA:  - 0s 61us/step\n",
      "360/360 [==============================] - ETA:  - 0s 264us/step\n",
      "1437/1437 [==============================] - ETA:  - ETA:  - 0s 46us/step\n",
      "360/360 [==============================] - ETA:  - 0s 513us/step\n",
      "1437/1437 [==============================] - ETA:  - ETA:  - 0s 59us/step\n",
      "360/360 [==============================] - ETA:  - 0s 492us/step\n",
      "1437/1437 [==============================] - ETA:  - ETA:  - 0s 54us/step\n",
      "360/360 [==============================] - ETA:  - 0s 616us/step\n",
      "1437/1437 [==============================] - ETA:  - ETA:  - 0s 56us/step\n",
      "360/360 [==============================] - ETA:  - 0s 546us/step\n",
      "1437/1437 [==============================] - ETA:  - ETA:  - 0s 52us/step\n",
      "360/360 [==============================] - ETA:  - 0s 686us/step\n",
      "1437/1437 [==============================] - ETA:  - ETA:  - 0s 67us/step\n",
      "360/360 [==============================] - ETA:  - 0s 805us/step\n",
      "1437/1437 [==============================] - ETA:  - ETA:  - 0s 64us/step\n",
      "360/360 [==============================] - ETA:  - 0s 867us/step\n",
      "1437/1437 [==============================] - ETA:  - ETA:  - 0s 69us/step\n",
      "360/360 [==============================] - ETA:  - 0s 833us/step\n",
      "1437/1437 [==============================] - ETA:  - ETA:  - 0s 64us/step\n",
      "360/360 [==============================] - ETA:  - 0s 1ms/step\n",
      "1437/1437 [==============================] - ETA:  - ETA:  - 0s 70us/step\n",
      "360/360 [==============================] - ETA:  - 0s 1ms/step\n",
      "1437/1437 [==============================] - ETA:  - ETA:  - 0s 60us/step\n",
      "360/360 [==============================] - ETA:  - 0s 1ms/step\n",
      "1437/1437 [==============================] - ETA:  - ETA:  - 0s 77us/step\n",
      "360/360 [==============================] - ETA:  - 0s 1ms/step\n",
      "1437/1437 [==============================] - ETA:  - ETA:  - 0s 57us/step\n",
      "360/360 [==============================] - ETA:  - 1s 1ms/step\n",
      "1437/1437 [==============================] - ETA:  - ETA:  - ETA:  - 0s 80us/step\n",
      "360/360 [==============================] - ETA:  - 0s 1ms/step\n",
      "1437/1437 [==============================] - ETA:  - ETA:  - 0s 68us/step\n",
      "360/360 [==============================] - ETA:  - 0s 1ms/step\n",
      "1437/1437 [==============================] - ETA:  - ETA:  - 0s 84us/step\n",
      "360/360 [==============================] - ETA:  - 1s 1ms/step\n",
      "1437/1437 [==============================] - ETA:  - ETA:  - 0s 69us/step\n",
      "360/360 [==============================] - ETA:  - 1s 2ms/step\n",
      "1437/1437 [==============================] - ETA:  - ETA:  - ETA:  - 0s 84us/step\n",
      "360/360 [==============================] - ETA:  - 1s 2ms/step\n",
      "1437/1437 [==============================] - ETA:  - ETA:  - 0s 70us/step\n",
      "360/360 [==============================] - ETA:  - 1s 2ms/step\n",
      "1437/1437 [==============================] - ETA:  - ETA:  - 0s 86us/step\n",
      "360/360 [==============================] - ETA:  - 1s 2ms/step\n",
      "1437/1437 [==============================] - ETA:  - ETA:  - 0s 70us/step\n",
      "360/360 [==============================] - ETA:  - 1s 2ms/step\n",
      "1437/1437 [==============================] - ETA:  - ETA:  - 0s 70us/step\n",
      "360/360 [==============================] - ETA:  - 1s 2ms/step\n",
      "1437/1437 [==============================] - ETA:  - ETA:  - 0s 70us/step\n",
      "360/360 [==============================] - ETA:  - 1s 3ms/step\n",
      "1437/1437 [==============================] - ETA:  - ETA:  - 0s 70us/step\n",
      "360/360 [==============================] - ETA:  - 1s 2ms/step\n",
      "1437/1437 [==============================] - ETA:  - ETA:  - 0s 69us/step\n",
      "360/360 [==============================] - ETA:  - 1s 2ms/step\n",
      "1437/1437 [==============================] - ETA:  - ETA:  - ETA:  - 0s 81us/step\n",
      "360/360 [==============================] - ETA:  - 1s 2ms/step\n",
      "1437/1437 [==============================] - ETA:  - ETA:  - ETA:  - 0s 81us/step\n",
      "360/360 [==============================] - ETA:  - 1s 2ms/step\n",
      "1437/1437 [==============================] - ETA:  - ETA:  - ETA:  - 0s 85us/step\n",
      "360/360 [==============================] - ETA: 10 - 1s 3ms/step\n",
      "1437/1437 [==============================] - ETA:  - ETA:  - 0s 70us/step\n",
      "360/360 [==============================] - ETA: 10 - 1s 3ms/step\n",
      "1437/1437 [==============================] - ETA:  - ETA:  - ETA:  - 0s 96us/step\n",
      "360/360 [==============================] - ETA:  - 1s 3ms/step\n",
      "1437/1437 [==============================] - ETA:  - ETA:  - 0s 70us/step\n",
      "360/360 [==============================] - ETA:  - 1s 3ms/step\n",
      "1437/1437 [==============================] - ETA:  - ETA:  - ETA:  - 0s 81us/step\n",
      "360/360 [==============================] - ETA: 11 - 1s 3ms/step\n",
      "1437/1437 [==============================] - ETA:  - ETA:  - 0s 85us/step\n",
      "360/360 [==============================] - ETA: 10 - 1s 3ms/step\n",
      "1437/1437 [==============================] - ETA:  - ETA:  - ETA:  - 0s 101us/step\n",
      "360/360 [==============================] - ETA:  - 1s 3ms/step\n",
      "1437/1437 [==============================] - ETA:  - ETA:  - ETA:  - 0s 85us/step\n",
      "360/360 [==============================] - ETA: 10 - 1s 3ms/step\n",
      "1437/1437 [==============================] - ETA:  - ETA:  - ETA:  - 0s 98us/step\n",
      "360/360 [==============================] - ETA: 10 - 1s 3ms/step\n",
      "1437/1437 [==============================] - ETA:  - ETA:  - ETA:  - 0s 86us/step\n",
      "360/360 [==============================] - ETA: 17 - 2s 5ms/step\n",
      "1437/1437 [==============================] - ETA:  - ETA:  - ETA:  - 0s 94us/step\n",
      "360/360 [==============================] - ETA: 11 - 1s 3ms/step\n",
      "1437/1437 [==============================] - ETA:  - ETA:  - ETA:  - 0s 92us/step\n",
      "360/360 [==============================] - ETA: 12 - 1s 3ms/step\n",
      "1437/1437 [==============================] - ETA:  - ETA:  - ETA:  - 0s 87us/step\n",
      "360/360 [==============================] - ETA: 12 - 1s 4ms/step\n",
      "1437/1437 [==============================] - ETA:  - ETA:  - 0s 90us/step\n",
      "360/360 [==============================] - ETA: 12 - 1s 4ms/step\n",
      "1437/1437 [==============================] - ETA:  - ETA:  - ETA:  - 0s 104us/step\n",
      "360/360 [==============================] - ETA: 13 - 1s 4ms/step\n",
      "1437/1437 [==============================] - ETA:  - ETA:  - ETA:  - 0s 85us/step\n",
      "360/360 [==============================] - ETA: 13 - 1s 4ms/step\n",
      "1437/1437 [==============================] - ETA:  - ETA:  - ETA:  - 0s 104us/step\n",
      "360/360 [==============================] - ETA: 13 - 1s 4ms/step\n",
      "1437/1437 [==============================] - ETA:  - ETA:  - ETA:  - 0s 98us/step\n",
      "360/360 [==============================] - ETA: 14 - 1s 4ms/step\n",
      "1437/1437 [==============================] - ETA:  - ETA:  - ETA:  - 0s 96us/step\n",
      "360/360 [==============================] - ETA: 17 - 2s 5ms/step\n",
      "1437/1437 [==============================] - ETA:  - ETA:  - ETA:  - 0s 107us/step\n",
      "360/360 [==============================] - ETA: 14 - 1s 4ms/step\n",
      "1437/1437 [==============================] - ETA:  - ETA:  - ETA:  - 0s 112us/step\n",
      "360/360 [==============================] - ETA: 15 - 2s 4ms/step\n",
      "1437/1437 [==============================] - ETA:  - ETA:  - ETA:  - 0s 105us/step\n",
      "360/360 [==============================] - ETA: 17 - 2s 5ms/step\n",
      "1437/1437 [==============================] - ETA:  - ETA:  - ETA:  - 0s 100us/step\n",
      "360/360 [==============================] - ETA: 21 - 2s 6ms/step\n",
      "1437/1437 [==============================] - ETA:  - ETA:  - ETA:  - ETA:  - 0s 122us/step\n",
      "360/360 [==============================] - ETA: 18 - 2s 5ms/step\n",
      "1437/1437 [==============================] - ETA:  - ETA:  - ETA:  - 0s 105us/step\n",
      "360/360 [==============================] - ETA: 16 - 2s 5ms/step\n",
      "1437/1437 [==============================] - ETA:  - ETA:  - ETA:  - 0s 88us/step\n",
      "360/360 [==============================] - ETA: 18 - 2s 5ms/step\n",
      "1437/1437 [==============================] - ETA:  - ETA:  - ETA:  - 0s 113us/step\n",
      "360/360 [==============================] - ETA: 17 - 2s 5ms/step\n",
      "1437/1437 [==============================] - ETA:  - ETA:  - ETA:  - 0s 99us/step\n",
      "360/360 [==============================] - ETA: 20 - 2s 6ms/step\n",
      "1437/1437 [==============================] - ETA:  - ETA:  - ETA:  - 0s 113us/step\n",
      "360/360 [==============================] - ETA: 20 - 2s 6ms/step\n"
     ]
    },
    {
     "name": "stdout",
     "output_type": "stream",
     "text": [
      "1437/1437 [==============================] - ETA:  - ETA:  - ETA:  - 0s 105us/step\n",
      "360/360 [==============================] - ETA: 20 - 2s 6ms/step\n",
      "1437/1437 [==============================] - ETA:  - ETA:  - ETA:  - ETA:  - 0s 137us/step\n",
      "360/360 [==============================] - ETA: 19 - 2s 5ms/step\n",
      "1437/1437 [==============================] - ETA:  - ETA:  - ETA:  - 0s 107us/step\n",
      "360/360 [==============================] - ETA: 20 - 2s 6ms/step\n",
      "1437/1437 [==============================] - ETA:  - ETA:  - ETA:  - ETA:  - 0s 128us/step\n",
      "360/360 [==============================] - ETA: 21 - 2s 6ms/step\n",
      "1437/1437 [==============================] - ETA:  - ETA:  - ETA:  - 0s 109us/step\n",
      "360/360 [==============================] - ETA: 22 - 2s 6ms/step\n",
      "1437/1437 [==============================] - ETA:  - ETA:  - ETA:  - 0s 122us/step\n",
      "360/360 [==============================] - ETA: 21 - 2s 6ms/step\n",
      "1437/1437 [==============================] - ETA:  - ETA:  - ETA:  - 0s 112us/step\n",
      "360/360 [==============================] - ETA: 22 - 2s 6ms/step\n",
      "1437/1437 [==============================] - ETA:  - ETA:  - ETA:  - 0s 117us/step\n",
      "360/360 [==============================] - ETA: 23 - 2s 7ms/step\n",
      "1437/1437 [==============================] - ETA:  - ETA:  - ETA:  - 0s 107us/step\n",
      "360/360 [==============================] - ETA: 23 - 2s 6ms/step\n",
      "1437/1437 [==============================] - ETA:  - ETA:  - ETA:  - ETA:  - 0s 134us/step\n",
      "360/360 [==============================] - ETA: 24 - 2s 7ms/step\n",
      "1437/1437 [==============================] - ETA:  - ETA:  - ETA:  - 0s 105us/step\n",
      "360/360 [==============================] - ETA: 24 - 2s 7ms/step\n",
      "1437/1437 [==============================] - ETA:  - ETA:  - ETA:  - ETA:  - 0s 149us/step\n",
      "360/360 [==============================] - ETA: 24 - 2s 7ms/step\n",
      "1437/1437 [==============================] - ETA:  - ETA:  - ETA:  - 0s 118us/step\n",
      "360/360 [==============================] - ETA: 25 - 3s 7ms/step\n",
      "1437/1437 [==============================] - ETA:  - ETA:  - ETA:  - ETA:  - 0s 133us/step\n",
      "360/360 [==============================] - ETA: 26 - 3s 7ms/step\n",
      "1437/1437 [==============================] - ETA:  - ETA:  - ETA:  - 0s 120us/step\n",
      "360/360 [==============================] - ETA: 25 - 3s 7ms/step\n",
      "1437/1437 [==============================] - ETA:  - ETA:  - ETA:  - ETA:  - 0s 135us/step\n",
      "360/360 [==============================] - ETA: 26 - 3s 7ms/step\n",
      "1437/1437 [==============================] - ETA:  - ETA:  - ETA:  - 0s 116us/step\n",
      "360/360 [==============================] - ETA: 28 - 3s 8ms/step\n",
      "1437/1437 [==============================] - ETA:  - ETA:  - ETA:  - ETA:  - 0s 134us/step\n",
      "360/360 [==============================] - ETA: 27 - 3s 7ms/step\n",
      "1437/1437 [==============================] - ETA:  - ETA:  - ETA:  - ETA:  - 0s 128us/step\n",
      "360/360 [==============================] - ETA: 27 - ETA: 0 - 3s 8ms/step\n",
      "1437/1437 [==============================] - ETA:  - ETA:  - ETA:  - ETA:  - 0s 133us/step\n",
      "360/360 [==============================] - ETA: 28 - 3s 8ms/step\n",
      "1437/1437 [==============================] - ETA:  - ETA:  - ETA:  - 0s 113us/step\n",
      "360/360 [==============================] - ETA: 31 - ETA: 0 - 3s 9ms/step\n",
      "1437/1437 [==============================] - ETA:  - ETA:  - ETA:  - ETA:  - 0s 142us/step\n",
      "360/360 [==============================] - ETA: 29 - 3s 8ms/step\n",
      "1437/1437 [==============================] - ETA:  - ETA:  - ETA:  - 0s 128us/step\n",
      "360/360 [==============================] - ETA: 30 - 3s 8ms/step\n",
      "1437/1437 [==============================] - ETA:  - ETA:  - ETA:  - ETA:  - 0s 152us/step\n",
      "360/360 [==============================] - ETA: 30 - ETA: 0 - 3s 8ms/step\n",
      "1437/1437 [==============================] - ETA:  - ETA:  - ETA:  - ETA:  - 0s 133us/step\n",
      "360/360 [==============================] - ETA: 31 - 3s 9ms/step\n",
      "1437/1437 [==============================] - ETA:  - ETA:  - ETA:  - ETA:  - 0s 136us/step\n",
      "360/360 [==============================] - ETA: 32 - 3s 9ms/step\n",
      "1437/1437 [==============================] - ETA:  - ETA:  - ETA:  - ETA:  - 0s 138us/step\n",
      "360/360 [==============================] - ETA: 31 - 3s 9ms/step\n",
      "1437/1437 [==============================] - ETA:  - ETA:  - ETA:  - ETA:  - 0s 150us/step\n",
      "360/360 [==============================] - ETA: 32 - 3s 9ms/step\n",
      "1437/1437 [==============================] - ETA:  - ETA:  - ETA:  - ETA:  - 0s 149us/step\n",
      "360/360 [==============================] - ETA: 34 - 3s 9ms/step\n",
      "1437/1437 [==============================] - ETA:  - ETA:  - ETA:  - ETA:  - 0s 148us/step\n",
      "360/360 [==============================] - ETA: 37 - ETA: 0 - 4s 10ms/step\n",
      "1437/1437 [==============================] - ETA:  - ETA:  - ETA:  - ETA:  - 0s 137us/step\n",
      "360/360 [==============================] - ETA: 35 - ETA: 0 - 3s 10ms/step\n",
      "1437/1437 [==============================] - ETA:  - ETA:  - ETA:  - ETA:  - 0s 165us/step\n",
      "360/360 [==============================] - ETA: 36 - 4s 10ms/step\n",
      "1437/1437 [==============================] - ETA:  - ETA:  - ETA:  - ETA:  - 0s 148us/step\n",
      "360/360 [==============================] - ETA: 37 - ETA: 0 - 4s 10ms/step\n",
      "1437/1437 [==============================] - ETA:  - ETA:  - ETA:  - ETA:  - ETA:  - 0s 172us/step\n",
      "360/360 [==============================] - ETA: 36 - ETA: 0 - 4s 10ms/step\n",
      "1437/1437 [==============================] - ETA:  - ETA:  - ETA:  - ETA:  - 0s 137us/step\n",
      "360/360 [==============================] - ETA: 37 - ETA: 0 - 4s 10ms/step\n",
      "1437/1437 [==============================] - ETA:  - ETA:  - ETA:  - ETA:  - ETA:  - 0s 187us/step\n",
      "360/360 [==============================] - ETA: 37 - 4s 10ms/step\n",
      "1437/1437 [==============================] - ETA:  - ETA:  - ETA:  - ETA:  - 0s 150us/step\n",
      "360/360 [==============================] - ETA: 39 - ETA: 0 - 4s 11ms/step\n",
      "1437/1437 [==============================] - ETA:  - ETA:  - ETA:  - ETA:  - ETA:  - 0s 173us/step\n",
      "360/360 [==============================] - ETA: 38 - ETA: 0 - 4s 11ms/step\n",
      "1437/1437 [==============================] - ETA:  - ETA:  - ETA:  - ETA:  - ETA:  - 0s 173us/step\n",
      "\n"
     ]
    }
   ],
   "source": [
    "config, df = grid_search(learner, params, data)"
   ]
  },
  {
   "cell_type": "markdown",
   "metadata": {},
   "source": [
    "### Have a look at results"
   ]
  },
  {
   "cell_type": "code",
   "execution_count": 19,
   "metadata": {},
   "outputs": [
    {
     "data": {
      "text/html": [
       "<div>\n",
       "<style scoped>\n",
       "    .dataframe tbody tr th:only-of-type {\n",
       "        vertical-align: middle;\n",
       "    }\n",
       "\n",
       "    .dataframe tbody tr th {\n",
       "        vertical-align: top;\n",
       "    }\n",
       "\n",
       "    .dataframe thead th {\n",
       "        text-align: right;\n",
       "    }\n",
       "</style>\n",
       "<table border=\"1\" class=\"dataframe\">\n",
       "  <thead>\n",
       "    <tr style=\"text-align: right;\">\n",
       "      <th></th>\n",
       "      <th>index</th>\n",
       "      <th>batch_norm</th>\n",
       "      <th>batch_size</th>\n",
       "      <th>dropout</th>\n",
       "      <th>epochs</th>\n",
       "      <th>input_units</th>\n",
       "      <th>n_hidden</th>\n",
       "      <th>p</th>\n",
       "      <th>train_loss</th>\n",
       "      <th>train_score</th>\n",
       "      <th>val_loss</th>\n",
       "      <th>val_score</th>\n",
       "      <th>validation_split</th>\n",
       "    </tr>\n",
       "  </thead>\n",
       "  <tbody>\n",
       "    <tr>\n",
       "      <th>0</th>\n",
       "      <td>11</td>\n",
       "      <td>False</td>\n",
       "      <td>16</td>\n",
       "      <td>True</td>\n",
       "      <td>10</td>\n",
       "      <td>350</td>\n",
       "      <td>2</td>\n",
       "      <td>0.5</td>\n",
       "      <td>0.0378</td>\n",
       "      <td>0.9875</td>\n",
       "      <td>0.0480</td>\n",
       "      <td>0.9944</td>\n",
       "      <td>0.0</td>\n",
       "    </tr>\n",
       "    <tr>\n",
       "      <th>1</th>\n",
       "      <td>23</td>\n",
       "      <td>False</td>\n",
       "      <td>16</td>\n",
       "      <td>True</td>\n",
       "      <td>10</td>\n",
       "      <td>500</td>\n",
       "      <td>2</td>\n",
       "      <td>0.5</td>\n",
       "      <td>0.0208</td>\n",
       "      <td>0.9965</td>\n",
       "      <td>0.0554</td>\n",
       "      <td>0.9944</td>\n",
       "      <td>0.0</td>\n",
       "    </tr>\n",
       "    <tr>\n",
       "      <th>2</th>\n",
       "      <td>4</td>\n",
       "      <td>True</td>\n",
       "      <td>16</td>\n",
       "      <td>True</td>\n",
       "      <td>10</td>\n",
       "      <td>300</td>\n",
       "      <td>2</td>\n",
       "      <td>0.1</td>\n",
       "      <td>0.0058</td>\n",
       "      <td>0.9993</td>\n",
       "      <td>0.0566</td>\n",
       "      <td>0.9944</td>\n",
       "      <td>0.0</td>\n",
       "    </tr>\n",
       "    <tr>\n",
       "      <th>3</th>\n",
       "      <td>21</td>\n",
       "      <td>False</td>\n",
       "      <td>16</td>\n",
       "      <td>True</td>\n",
       "      <td>10</td>\n",
       "      <td>500</td>\n",
       "      <td>2</td>\n",
       "      <td>0.1</td>\n",
       "      <td>0.0042</td>\n",
       "      <td>0.9993</td>\n",
       "      <td>0.0626</td>\n",
       "      <td>0.9917</td>\n",
       "      <td>0.0</td>\n",
       "    </tr>\n",
       "    <tr>\n",
       "      <th>4</th>\n",
       "      <td>44</td>\n",
       "      <td>True</td>\n",
       "      <td>16</td>\n",
       "      <td>True</td>\n",
       "      <td>20</td>\n",
       "      <td>500</td>\n",
       "      <td>2</td>\n",
       "      <td>0.1</td>\n",
       "      <td>0.0069</td>\n",
       "      <td>0.9979</td>\n",
       "      <td>0.0745</td>\n",
       "      <td>0.9917</td>\n",
       "      <td>0.0</td>\n",
       "    </tr>\n",
       "  </tbody>\n",
       "</table>\n",
       "</div>"
      ],
      "text/plain": [
       "   index  batch_norm  batch_size  dropout  epochs  input_units  n_hidden    p  \\\n",
       "0     11       False          16     True      10          350         2  0.5   \n",
       "1     23       False          16     True      10          500         2  0.5   \n",
       "2      4        True          16     True      10          300         2  0.1   \n",
       "3     21       False          16     True      10          500         2  0.1   \n",
       "4     44        True          16     True      20          500         2  0.1   \n",
       "\n",
       "   train_loss  train_score  val_loss  val_score  validation_split  \n",
       "0      0.0378       0.9875    0.0480     0.9944               0.0  \n",
       "1      0.0208       0.9965    0.0554     0.9944               0.0  \n",
       "2      0.0058       0.9993    0.0566     0.9944               0.0  \n",
       "3      0.0042       0.9993    0.0626     0.9917               0.0  \n",
       "4      0.0069       0.9979    0.0745     0.9917               0.0  "
      ]
     },
     "execution_count": 19,
     "metadata": {},
     "output_type": "execute_result"
    }
   ],
   "source": [
    "df.head()"
   ]
  },
  {
   "cell_type": "markdown",
   "metadata": {},
   "source": [
    "The best estimator parameters are found in the 'config' dictionary:"
   ]
  },
  {
   "cell_type": "code",
   "execution_count": 18,
   "metadata": {},
   "outputs": [
    {
     "data": {
      "text/plain": [
       "{'batch_norm': False,\n",
       " 'batch_size': 16,\n",
       " 'dropout': True,\n",
       " 'epochs': 10,\n",
       " 'index': 11,\n",
       " 'input_units': 350,\n",
       " 'n_hidden': 2,\n",
       " 'p': 0.5,\n",
       " 'validation_split': 0.0}"
      ]
     },
     "execution_count": 18,
     "metadata": {},
     "output_type": "execute_result"
    }
   ],
   "source": [
    "config"
   ]
  },
  {
   "cell_type": "markdown",
   "metadata": {},
   "source": [
    "# End of demo"
   ]
  }
 ],
 "metadata": {
  "kernelspec": {
   "display_name": "Python 3",
   "language": "python",
   "name": "python3"
  },
  "language_info": {
   "codemirror_mode": {
    "name": "ipython",
    "version": 3
   },
   "file_extension": ".py",
   "mimetype": "text/x-python",
   "name": "python",
   "nbconvert_exporter": "python",
   "pygments_lexer": "ipython3",
   "version": "3.6.4"
  }
 },
 "nbformat": 4,
 "nbformat_minor": 2
}
